{
 "cells": [
  {
   "cell_type": "code",
   "execution_count": null,
   "id": "0f90a43a-6f7f-45dd-81bc-76983f77d8f8",
   "metadata": {},
   "outputs": [],
   "source": [
    "################################################################################"
   ]
  },
  {
   "cell_type": "code",
   "execution_count": null,
   "id": "fba6369a-42a6-4fbe-bd77-f5260ea6f943",
   "metadata": {},
   "outputs": [],
   "source": [
    "from pycocotools.coco import COCO"
   ]
  },
  {
   "cell_type": "code",
   "execution_count": null,
   "id": "d99c1a5b-f776-407e-910a-ad53dd2ab48e",
   "metadata": {},
   "outputs": [],
   "source": [
    "ann_file_path = 'annotations/instances_default.json'"
   ]
  },
  {
   "cell_type": "code",
   "execution_count": null,
   "id": "d7dd51d5-8fce-4a7b-9719-726416142d58",
   "metadata": {},
   "outputs": [],
   "source": [
    "coco = COCO(ann_file_path)"
   ]
  },
  {
   "cell_type": "markdown",
   "id": "3f502389-ac92-4183-954a-3c0b8240913c",
   "metadata": {},
   "source": [
    "## Labels"
   ]
  },
  {
   "cell_type": "code",
   "execution_count": null,
   "id": "e8639441-7a18-46e2-a1b8-91ef44d670b4",
   "metadata": {},
   "outputs": [],
   "source": [
    "xcoco.write_labels()"
   ]
  },
  {
   "cell_type": "markdown",
   "id": "2bffe73d-7c38-470d-b395-9b7cb75f8f22",
   "metadata": {},
   "source": [
    "## Images"
   ]
  },
  {
   "cell_type": "code",
   "execution_count": null,
   "id": "3bc3d3f2-d0b6-4559-bde8-c70b15ed8532",
   "metadata": {},
   "outputs": [],
   "source": [
    "xcoco.write_images()"
   ]
  },
  {
   "cell_type": "markdown",
   "id": "24200c98-f131-475e-9ac8-88d0416d8de4",
   "metadata": {},
   "source": [
    "## YAML"
   ]
  },
  {
   "cell_type": "code",
   "execution_count": null,
   "id": "3320a4c1-7364-4aac-979c-c82534562aea",
   "metadata": {},
   "outputs": [],
   "source": [
    "import os\n",
    "\n",
    "import yaml"
   ]
  },
  {
   "cell_type": "code",
   "execution_count": null,
   "id": "6d0b1533-ef0c-4aed-8c66-02cb458dfa3f",
   "metadata": {},
   "outputs": [],
   "source": [
    "yaml_content_dict = {'path': '', 'train': '', 'test': None, 'names': ''}"
   ]
  },
  {
   "cell_type": "code",
   "execution_count": null,
   "id": "65cf6fee-a8ad-44cd-842f-8aaca9bd5bb4",
   "metadata": {},
   "outputs": [],
   "source": [
    "yaml_content_dict['names'] = {\n",
    "    int(xcoco.coco.cats[cid]['id']) - 1: xcoco.coco.cats[cid]['name']\n",
    "    for cid in xcoco.coco.getCatIds()\n",
    "}"
   ]
  },
  {
   "cell_type": "code",
   "execution_count": null,
   "id": "a6200114-0f49-4702-ab53-2ca82425b2df",
   "metadata": {},
   "outputs": [],
   "source": [
    "with open(os.path.join(xcoco.out_dir, 'coco.yml'), 'w') as fh:\n",
    "    yaml.dump(yaml_content_dict, fh)"
   ]
  },
  {
   "cell_type": "code",
   "execution_count": null,
   "id": "a31686c4-afdf-4f16-8476-c2f9c2017b81",
   "metadata": {},
   "outputs": [],
   "source": []
  }
 ],
 "metadata": {
  "kernelspec": {
   "display_name": "Python 3 (ipykernel)",
   "language": "python",
   "name": "python3"
  },
  "language_info": {
   "codemirror_mode": {
    "name": "ipython",
    "version": 3
   },
   "file_extension": ".py",
   "mimetype": "text/x-python",
   "name": "python",
   "nbconvert_exporter": "python",
   "pygments_lexer": "ipython3",
   "version": "3.11.4"
  }
 },
 "nbformat": 4,
 "nbformat_minor": 5
}
