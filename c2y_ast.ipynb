{
 "cells": [
  {
   "cell_type": "code",
   "execution_count": null,
   "id": "0f90a43a-6f7f-45dd-81bc-76983f77d8f8",
   "metadata": {
    "execution": {
     "iopub.execute_input": "2023-07-28T13:14:23.271281Z",
     "iopub.status.busy": "2023-07-28T13:14:23.270548Z",
     "iopub.status.idle": "2023-07-28T13:14:23.282006Z",
     "shell.execute_reply": "2023-07-28T13:14:23.279877Z",
     "shell.execute_reply.started": "2023-07-28T13:14:23.271243Z"
    }
   },
   "outputs": [],
   "source": [
    "################################################################################"
   ]
  },
  {
   "cell_type": "code",
   "execution_count": null,
   "id": "fba6369a-42a6-4fbe-bd77-f5260ea6f943",
   "metadata": {
    "execution": {
     "iopub.execute_input": "2023-07-28T13:37:38.811414Z",
     "iopub.status.busy": "2023-07-28T13:37:38.811016Z",
     "iopub.status.idle": "2023-07-28T13:37:38.819372Z",
     "shell.execute_reply": "2023-07-28T13:37:38.818162Z",
     "shell.execute_reply.started": "2023-07-28T13:37:38.811378Z"
    }
   },
   "outputs": [],
   "source": [
    "from pycocotools.coco import COCO"
   ]
  },
  {
   "cell_type": "code",
   "execution_count": null,
   "id": "d99c1a5b-f776-407e-910a-ad53dd2ab48e",
   "metadata": {
    "execution": {
     "iopub.execute_input": "2023-07-28T13:37:39.225221Z",
     "iopub.status.busy": "2023-07-28T13:37:39.221547Z",
     "iopub.status.idle": "2023-07-28T13:37:39.232838Z",
     "shell.execute_reply": "2023-07-28T13:37:39.230575Z",
     "shell.execute_reply.started": "2023-07-28T13:37:39.225158Z"
    }
   },
   "outputs": [],
   "source": [
    "ann_file_path = '/Users/mm/Desktop/edgeshots/annotations/instances_default.json'"
   ]
  },
  {
   "cell_type": "code",
   "execution_count": null,
   "id": "d7dd51d5-8fce-4a7b-9719-726416142d58",
   "metadata": {
    "execution": {
     "iopub.execute_input": "2023-07-28T13:37:39.674890Z",
     "iopub.status.busy": "2023-07-28T13:37:39.674534Z",
     "iopub.status.idle": "2023-07-28T13:37:39.689672Z",
     "shell.execute_reply": "2023-07-28T13:37:39.685141Z",
     "shell.execute_reply.started": "2023-07-28T13:37:39.674864Z"
    }
   },
   "outputs": [],
   "source": [
    "coco = COCO(ann_file_path)"
   ]
  },
  {
   "cell_type": "code",
   "execution_count": null,
   "id": "339de5a2-d8c6-4317-8df7-85785e39c40d",
   "metadata": {
    "execution": {
     "iopub.execute_input": "2023-07-28T13:37:40.414463Z",
     "iopub.status.busy": "2023-07-28T13:37:40.414065Z",
     "iopub.status.idle": "2023-07-28T13:37:40.427722Z",
     "shell.execute_reply": "2023-07-28T13:37:40.424337Z",
     "shell.execute_reply.started": "2023-07-28T13:37:40.414433Z"
    }
   },
   "outputs": [],
   "source": [
    "catIDs = coco.getCatIds()\n",
    "cats = coco.loadCats(catIDs)"
   ]
  },
  {
   "cell_type": "code",
   "execution_count": null,
   "id": "bc010740-1729-4ee4-b6b8-ebcef9aaac88",
   "metadata": {
    "execution": {
     "iopub.execute_input": "2023-07-28T13:37:40.908531Z",
     "iopub.status.busy": "2023-07-28T13:37:40.907253Z",
     "iopub.status.idle": "2023-07-28T13:37:40.918840Z",
     "shell.execute_reply": "2023-07-28T13:37:40.916976Z",
     "shell.execute_reply.started": "2023-07-28T13:37:40.908491Z"
    }
   },
   "outputs": [],
   "source": [
    "class_distribution = {}\n",
    "\n",
    "imgIds = coco.getImgIds()\n",
    "for i in imgIds:\n",
    "    annIds = coco.getAnnIds(imgIds=i, iscrowd=None)\n",
    "    anns = coco.loadAnns(annIds)\n",
    "    for ann in anns:\n",
    "        catId = ann['category_id']\n",
    "        cat = coco.loadCats(catId)[0]['name']\n",
    "        if cat not in class_distribution:\n",
    "            class_distribution[cat] = 0\n",
    "        class_distribution[cat] += 1"
   ]
  },
  {
   "cell_type": "code",
   "execution_count": null,
   "id": "547ddcdf-df9d-4e49-a2f7-2dc96a76c601",
   "metadata": {
    "execution": {
     "iopub.execute_input": "2023-07-28T13:37:41.318067Z",
     "iopub.status.busy": "2023-07-28T13:37:41.317668Z",
     "iopub.status.idle": "2023-07-28T13:37:42.276432Z",
     "shell.execute_reply": "2023-07-28T13:37:42.275510Z",
     "shell.execute_reply.started": "2023-07-28T13:37:41.318037Z"
    }
   },
   "outputs": [],
   "source": [
    "import matplotlib.pyplot as plt"
   ]
  },
  {
   "cell_type": "code",
   "execution_count": null,
   "id": "6a9a71bc-f1c2-40bb-a745-445b6c1bc8ca",
   "metadata": {
    "execution": {
     "iopub.execute_input": "2023-07-28T13:37:42.300077Z",
     "iopub.status.busy": "2023-07-28T13:37:42.299156Z",
     "iopub.status.idle": "2023-07-28T13:37:43.317761Z",
     "shell.execute_reply": "2023-07-28T13:37:43.316611Z",
     "shell.execute_reply.started": "2023-07-28T13:37:42.299994Z"
    }
   },
   "outputs": [],
   "source": [
    "plt.figure(figsize=(20, 10))\n",
    "plt.bar(class_distribution.keys(), class_distribution.values())\n",
    "plt.xticks(rotation=90)\n",
    "plt.show()"
   ]
  },
  {
   "cell_type": "code",
   "execution_count": null,
   "id": "bd88662a-2c61-46d7-8c9f-8f461a0e501a",
   "metadata": {
    "execution": {
     "iopub.execute_input": "2023-07-28T13:37:44.230880Z",
     "iopub.status.busy": "2023-07-28T13:37:44.230471Z",
     "iopub.status.idle": "2023-07-28T13:37:56.374345Z",
     "shell.execute_reply": "2023-07-28T13:37:56.370799Z",
     "shell.execute_reply.started": "2023-07-28T13:37:44.230854Z"
    }
   },
   "outputs": [],
   "source": [
    "import pandas as pd\n",
    "import plotly.express as px\n",
    "import plotly.offline as pyo\n",
    "\n",
    "pyo.init_notebook_mode()"
   ]
  },
  {
   "cell_type": "code",
   "execution_count": null,
   "id": "1f1286ba-c378-47d9-a564-f59147be46b3",
   "metadata": {
    "execution": {
     "iopub.execute_input": "2023-07-28T13:47:26.325360Z",
     "iopub.status.busy": "2023-07-28T13:47:26.324873Z",
     "iopub.status.idle": "2023-07-28T13:47:26.334099Z",
     "shell.execute_reply": "2023-07-28T13:47:26.332879Z",
     "shell.execute_reply.started": "2023-07-28T13:47:26.325322Z"
    }
   },
   "outputs": [],
   "source": [
    "df = pd.DataFrame(list(class_distribution.items()), columns=['key', 'value'])"
   ]
  },
  {
   "cell_type": "code",
   "execution_count": null,
   "id": "cc406c34-f788-45fa-aec8-2a3954368ca6",
   "metadata": {
    "execution": {
     "iopub.execute_input": "2023-07-28T13:47:27.042439Z",
     "iopub.status.busy": "2023-07-28T13:47:27.042039Z",
     "iopub.status.idle": "2023-07-28T13:47:27.185734Z",
     "shell.execute_reply": "2023-07-28T13:47:27.181875Z",
     "shell.execute_reply.started": "2023-07-28T13:47:27.042404Z"
    }
   },
   "outputs": [],
   "source": [
    "fig = px.bar(df, x='key', y='value', height=450)"
   ]
  },
  {
   "cell_type": "code",
   "execution_count": null,
   "id": "9b8c1fa7-5778-4820-a6e2-6a94d60b2c08",
   "metadata": {
    "execution": {
     "iopub.execute_input": "2023-07-28T13:47:27.667452Z",
     "iopub.status.busy": "2023-07-28T13:47:27.666912Z",
     "iopub.status.idle": "2023-07-28T13:47:27.685982Z",
     "shell.execute_reply": "2023-07-28T13:47:27.685161Z",
     "shell.execute_reply.started": "2023-07-28T13:47:27.667410Z"
    }
   },
   "outputs": [],
   "source": [
    "fig.show()"
   ]
  },
  {
   "cell_type": "code",
   "execution_count": null,
   "id": "305f4a62-eb44-4749-b840-d0dd35724548",
   "metadata": {
    "execution": {
     "iopub.execute_input": "2023-07-25T14:08:13.242494Z",
     "iopub.status.busy": "2023-07-25T14:08:13.242097Z",
     "iopub.status.idle": "2023-07-25T14:08:13.258129Z",
     "shell.execute_reply": "2023-07-25T14:08:13.248688Z",
     "shell.execute_reply.started": "2023-07-25T14:08:13.242465Z"
    }
   },
   "outputs": [],
   "source": [
    "from c2y import Xcoco"
   ]
  },
  {
   "cell_type": "code",
   "execution_count": null,
   "id": "9f80feb6-29e5-4935-8495-0c45447274b7",
   "metadata": {
    "execution": {
     "iopub.execute_input": "2023-07-25T14:08:13.735628Z",
     "iopub.status.busy": "2023-07-25T14:08:13.735200Z",
     "iopub.status.idle": "2023-07-25T14:08:13.756275Z",
     "shell.execute_reply": "2023-07-25T14:08:13.747981Z",
     "shell.execute_reply.started": "2023-07-25T14:08:13.735603Z"
    }
   },
   "outputs": [],
   "source": [
    "xcoco = Xcoco(\n",
    "    coco_annotation_path=\n",
    "    \"/Users/hm/Desktop/edgeshots/annotations/instances_default.json\",\n",
    "    coco_images_dir_path=\"/Users/hm/Desktop/edgeshots/images/\",\n",
    ")"
   ]
  },
  {
   "cell_type": "markdown",
   "id": "3f502389-ac92-4183-954a-3c0b8240913c",
   "metadata": {},
   "source": [
    "## Labels"
   ]
  },
  {
   "cell_type": "code",
   "execution_count": null,
   "id": "e8639441-7a18-46e2-a1b8-91ef44d670b4",
   "metadata": {
    "execution": {
     "iopub.execute_input": "2023-07-25T14:09:00.227057Z",
     "iopub.status.busy": "2023-07-25T14:09:00.226668Z",
     "iopub.status.idle": "2023-07-25T14:09:00.299326Z",
     "shell.execute_reply": "2023-07-25T14:09:00.298024Z",
     "shell.execute_reply.started": "2023-07-25T14:09:00.227027Z"
    }
   },
   "outputs": [],
   "source": [
    "xcoco.write_labels()"
   ]
  },
  {
   "cell_type": "markdown",
   "id": "2bffe73d-7c38-470d-b395-9b7cb75f8f22",
   "metadata": {},
   "source": [
    "## Images"
   ]
  },
  {
   "cell_type": "code",
   "execution_count": null,
   "id": "3bc3d3f2-d0b6-4559-bde8-c70b15ed8532",
   "metadata": {
    "execution": {
     "iopub.execute_input": "2023-07-25T14:09:02.067311Z",
     "iopub.status.busy": "2023-07-25T14:09:02.065612Z",
     "iopub.status.idle": "2023-07-25T14:09:02.548849Z",
     "shell.execute_reply": "2023-07-25T14:09:02.546860Z",
     "shell.execute_reply.started": "2023-07-25T14:09:02.067254Z"
    }
   },
   "outputs": [],
   "source": [
    "xcoco.write_images()"
   ]
  },
  {
   "cell_type": "markdown",
   "id": "24200c98-f131-475e-9ac8-88d0416d8de4",
   "metadata": {},
   "source": [
    "## YAML"
   ]
  },
  {
   "cell_type": "code",
   "execution_count": null,
   "id": "6e5b7704-54da-46a3-916f-5a33b3487713",
   "metadata": {
    "execution": {
     "iopub.execute_input": "2023-07-25T14:09:03.484198Z",
     "iopub.status.busy": "2023-07-25T14:09:03.483576Z",
     "iopub.status.idle": "2023-07-25T14:09:03.535813Z",
     "shell.execute_reply": "2023-07-25T14:09:03.518874Z",
     "shell.execute_reply.started": "2023-07-25T14:09:03.484154Z"
    }
   },
   "outputs": [],
   "source": [
    "xcoco.write_yaml()"
   ]
  },
  {
   "cell_type": "markdown",
   "id": "1d978507-7ec1-4b53-98af-81c0e9833f78",
   "metadata": {},
   "source": [
    "## ..."
   ]
  },
  {
   "cell_type": "code",
   "execution_count": null,
   "id": "af0d0404-a048-4320-97ab-dfbe7644dccd",
   "metadata": {
    "execution": {
     "iopub.execute_input": "2023-07-25T14:09:45.892255Z",
     "iopub.status.busy": "2023-07-25T14:09:45.891878Z",
     "iopub.status.idle": "2023-07-25T14:09:46.269535Z",
     "shell.execute_reply": "2023-07-25T14:09:46.265620Z",
     "shell.execute_reply.started": "2023-07-25T14:09:45.892224Z"
    }
   },
   "outputs": [],
   "source": [
    "xcoco()"
   ]
  },
  {
   "cell_type": "markdown",
   "id": "418d4ee4-fd61-4514-8bc5-cafca87723e2",
   "metadata": {},
   "source": [
    "## MIME"
   ]
  },
  {
   "cell_type": "code",
   "execution_count": null,
   "id": "f7f7e30d-8a19-4c39-acdf-1aad3fcb3e4d",
   "metadata": {
    "execution": {
     "iopub.execute_input": "2023-07-30T14:48:15.936925Z",
     "iopub.status.busy": "2023-07-30T14:48:15.936476Z",
     "iopub.status.idle": "2023-07-30T14:48:15.972486Z",
     "shell.execute_reply": "2023-07-30T14:48:15.952018Z",
     "shell.execute_reply.started": "2023-07-30T14:48:15.936892Z"
    }
   },
   "outputs": [],
   "source": [
    "import magic\n",
    "\n",
    "\n",
    "def _mimetype(fpath):\n",
    "    m_obj = magic.Magic(mime=True)\n",
    "    return m_obj.from_file(fpath)"
   ]
  },
  {
   "cell_type": "code",
   "execution_count": null,
   "id": "d361029d-f24c-4564-b60b-144c0f77764e",
   "metadata": {
    "execution": {
     "iopub.execute_input": "2023-07-30T15:28:37.213420Z",
     "iopub.status.busy": "2023-07-30T15:28:37.212438Z",
     "iopub.status.idle": "2023-07-30T15:28:37.224636Z",
     "shell.execute_reply": "2023-07-30T15:28:37.223279Z",
     "shell.execute_reply.started": "2023-07-30T15:28:37.213389Z"
    }
   },
   "outputs": [],
   "source": [
    "_mimetype(fpath='./tests/assets/t_json')"
   ]
  },
  {
   "cell_type": "code",
   "execution_count": null,
   "id": "7bf84998-03f5-444c-a479-14e395a8e96f",
   "metadata": {
    "execution": {
     "iopub.execute_input": "2023-07-30T15:29:06.487287Z",
     "iopub.status.busy": "2023-07-30T15:29:06.486812Z",
     "iopub.status.idle": "2023-07-30T15:29:06.500798Z",
     "shell.execute_reply": "2023-07-30T15:29:06.499125Z",
     "shell.execute_reply.started": "2023-07-30T15:29:06.487252Z"
    }
   },
   "outputs": [],
   "source": [
    "_mimetype(fpath='./tests/assets/t_json_zip')"
   ]
  },
  {
   "cell_type": "code",
   "execution_count": null,
   "id": "679cc2b9-4d35-4d54-8402-02c015eb9a08",
   "metadata": {
    "execution": {
     "iopub.execute_input": "2023-07-30T15:29:50.396056Z",
     "iopub.status.busy": "2023-07-30T15:29:50.395689Z",
     "iopub.status.idle": "2023-07-30T15:29:50.403618Z",
     "shell.execute_reply": "2023-07-30T15:29:50.401699Z",
     "shell.execute_reply.started": "2023-07-30T15:29:50.396029Z"
    }
   },
   "outputs": [],
   "source": [
    "import zipfile"
   ]
  },
  {
   "cell_type": "code",
   "execution_count": null,
   "id": "4601c416-83ab-4075-92e7-d8bd4ac94c1d",
   "metadata": {
    "execution": {
     "iopub.execute_input": "2023-07-30T16:00:43.833506Z",
     "iopub.status.busy": "2023-07-30T16:00:43.832615Z",
     "iopub.status.idle": "2023-07-30T16:00:43.956113Z",
     "shell.execute_reply": "2023-07-30T16:00:43.916166Z",
     "shell.execute_reply.started": "2023-07-30T16:00:43.833457Z"
    }
   },
   "outputs": [],
   "source": [
    "with zipfile.ZipFile('./tests/assets/edgecocos.zip', 'r') as zip_ref:\n",
    "    for fn in zip_ref.namelist():\n",
    "        if 'annotations' in fn:\n",
    "            print(fn)"
   ]
  },
  {
   "cell_type": "code",
   "execution_count": null,
   "id": "d693a716-f63b-4b83-bccc-540da8e9b318",
   "metadata": {},
   "outputs": [],
   "source": []
  }
 ],
 "metadata": {
  "kernelspec": {
   "display_name": "Python 3 (ipykernel)",
   "language": "python",
   "name": "python3"
  },
  "language_info": {
   "codemirror_mode": {
    "name": "ipython",
    "version": 3
   },
   "file_extension": ".py",
   "mimetype": "text/x-python",
   "name": "python",
   "nbconvert_exporter": "python",
   "pygments_lexer": "ipython3",
   "version": "3.11.4"
  },
  "widgets": {
   "application/vnd.jupyter.widget-state+json": {
    "state": {},
    "version_major": 2,
    "version_minor": 0
   }
  }
 },
 "nbformat": 4,
 "nbformat_minor": 5
}
