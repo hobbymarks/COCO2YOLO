{
 "cells": [
  {
   "cell_type": "code",
   "execution_count": null,
   "id": "0f90a43a-6f7f-45dd-81bc-76983f77d8f8",
   "metadata": {},
   "outputs": [],
   "source": [
    "################################################################################"
   ]
  },
  {
   "cell_type": "code",
   "execution_count": null,
   "id": "fba6369a-42a6-4fbe-bd77-f5260ea6f943",
   "metadata": {},
   "outputs": [],
   "source": [
    "from pycocotools.coco import COCO"
   ]
  },
  {
   "cell_type": "code",
   "execution_count": null,
   "id": "d99c1a5b-f776-407e-910a-ad53dd2ab48e",
   "metadata": {},
   "outputs": [],
   "source": [
    "ann_file_path = 'annotations/instances_default.json'"
   ]
  },
  {
   "cell_type": "code",
   "execution_count": null,
   "id": "d7dd51d5-8fce-4a7b-9719-726416142d58",
   "metadata": {},
   "outputs": [],
   "source": [
    "coco = COCO(ann_file_path)"
   ]
  },
  {
   "cell_type": "markdown",
   "id": "dbceaf18-e293-4ae1-a414-fee059307d23",
   "metadata": {},
   "source": [
    "##"
   ]
  },
  {
   "cell_type": "code",
   "execution_count": 2,
   "id": "305f4a62-eb44-4749-b840-d0dd35724548",
   "metadata": {
    "execution": {
     "iopub.execute_input": "2023-07-25T14:08:13.242494Z",
     "iopub.status.busy": "2023-07-25T14:08:13.242097Z",
     "iopub.status.idle": "2023-07-25T14:08:13.258129Z",
     "shell.execute_reply": "2023-07-25T14:08:13.248688Z",
     "shell.execute_reply.started": "2023-07-25T14:08:13.242465Z"
    }
   },
   "outputs": [],
   "source": [
    "from c2y import Xcoco"
   ]
  },
  {
   "cell_type": "code",
   "execution_count": 3,
   "id": "9f80feb6-29e5-4935-8495-0c45447274b7",
   "metadata": {
    "execution": {
     "iopub.execute_input": "2023-07-25T14:08:13.735628Z",
     "iopub.status.busy": "2023-07-25T14:08:13.735200Z",
     "iopub.status.idle": "2023-07-25T14:08:13.756275Z",
     "shell.execute_reply": "2023-07-25T14:08:13.747981Z",
     "shell.execute_reply.started": "2023-07-25T14:08:13.735603Z"
    }
   },
   "outputs": [
    {
     "name": "stdout",
     "output_type": "stream",
     "text": [
      "loading annotations into memory...\n",
      "Done (t=0.01s)\n",
      "creating index...\n",
      "index created!\n"
     ]
    }
   ],
   "source": [
    "xcoco = Xcoco(\n",
    "    coco_annotation_path=\n",
    "    \"/Users/hm/Desktop/edgeshots/annotations/instances_default.json\",\n",
    "    coco_images_dir_path=\"/Users/hm/Desktop/edgeshots/images/\",\n",
    ")"
   ]
  },
  {
   "cell_type": "markdown",
   "id": "3f502389-ac92-4183-954a-3c0b8240913c",
   "metadata": {},
   "source": [
    "## Labels"
   ]
  },
  {
   "cell_type": "code",
   "execution_count": 4,
   "id": "e8639441-7a18-46e2-a1b8-91ef44d670b4",
   "metadata": {
    "execution": {
     "iopub.execute_input": "2023-07-25T14:09:00.227057Z",
     "iopub.status.busy": "2023-07-25T14:09:00.226668Z",
     "iopub.status.idle": "2023-07-25T14:09:00.299326Z",
     "shell.execute_reply": "2023-07-25T14:09:00.298024Z",
     "shell.execute_reply.started": "2023-07-25T14:09:00.227027Z"
    }
   },
   "outputs": [],
   "source": [
    "xcoco.write_labels()"
   ]
  },
  {
   "cell_type": "markdown",
   "id": "2bffe73d-7c38-470d-b395-9b7cb75f8f22",
   "metadata": {},
   "source": [
    "## Images"
   ]
  },
  {
   "cell_type": "code",
   "execution_count": 5,
   "id": "3bc3d3f2-d0b6-4559-bde8-c70b15ed8532",
   "metadata": {
    "execution": {
     "iopub.execute_input": "2023-07-25T14:09:02.067311Z",
     "iopub.status.busy": "2023-07-25T14:09:02.065612Z",
     "iopub.status.idle": "2023-07-25T14:09:02.548849Z",
     "shell.execute_reply": "2023-07-25T14:09:02.546860Z",
     "shell.execute_reply.started": "2023-07-25T14:09:02.067254Z"
    }
   },
   "outputs": [],
   "source": [
    "xcoco.write_images()"
   ]
  },
  {
   "cell_type": "markdown",
   "id": "24200c98-f131-475e-9ac8-88d0416d8de4",
   "metadata": {},
   "source": [
    "## YAML"
   ]
  },
  {
   "cell_type": "code",
   "execution_count": 6,
   "id": "6e5b7704-54da-46a3-916f-5a33b3487713",
   "metadata": {
    "execution": {
     "iopub.execute_input": "2023-07-25T14:09:03.484198Z",
     "iopub.status.busy": "2023-07-25T14:09:03.483576Z",
     "iopub.status.idle": "2023-07-25T14:09:03.535813Z",
     "shell.execute_reply": "2023-07-25T14:09:03.518874Z",
     "shell.execute_reply.started": "2023-07-25T14:09:03.484154Z"
    }
   },
   "outputs": [],
   "source": [
    "xcoco.write_yaml()"
   ]
  },
  {
   "cell_type": "markdown",
   "id": "1d978507-7ec1-4b53-98af-81c0e9833f78",
   "metadata": {},
   "source": [
    "## ..."
   ]
  },
  {
   "cell_type": "code",
   "execution_count": 7,
   "id": "af0d0404-a048-4320-97ab-dfbe7644dccd",
   "metadata": {
    "execution": {
     "iopub.execute_input": "2023-07-25T14:09:45.892255Z",
     "iopub.status.busy": "2023-07-25T14:09:45.891878Z",
     "iopub.status.idle": "2023-07-25T14:09:46.269535Z",
     "shell.execute_reply": "2023-07-25T14:09:46.265620Z",
     "shell.execute_reply.started": "2023-07-25T14:09:45.892224Z"
    }
   },
   "outputs": [],
   "source": [
    "xcoco()"
   ]
  },
  {
   "cell_type": "code",
   "execution_count": null,
   "id": "307eb960-0b68-40e0-af89-93589c982f73",
   "metadata": {},
   "outputs": [],
   "source": []
  }
 ],
 "metadata": {
  "kernelspec": {
   "display_name": "Python 3 (ipykernel)",
   "language": "python",
   "name": "python3"
  },
  "language_info": {
   "codemirror_mode": {
    "name": "ipython",
    "version": 3
   },
   "file_extension": ".py",
   "mimetype": "text/x-python",
   "name": "python",
   "nbconvert_exporter": "python",
   "pygments_lexer": "ipython3",
   "version": "3.11.4"
  }
 },
 "nbformat": 4,
 "nbformat_minor": 5
}
